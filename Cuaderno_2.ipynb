{
 "cells": [
  {
   "cell_type": "markdown",
   "id": "ff8ff4f4",
   "metadata": {},
   "source": [
    "## Probando Numpy y Pandas\n",
    "\n",
    "A continuación, se le brinda código en hojas de trucos disponibles en las herramientas Pandas y Numpy, las cuales debe probar cada código y brindar resultados por secciones, donde cada sección debe ir separada por una descripción en Markdown.\n",
    "\n",
    "#### a. ¿Campo de aplicación de las librerías Pandas y Numpy?\n",
    "\n",
    "NumPy es un paquete de Python que significa “Numerical Python”, es la librería principal para la informática científica, proporciona potentes estructuras de datos, implementando matrices y matrices multidimensionales. Estas estructuras de datos garantizan cálculos eficientes con matrices.\n",
    "\n",
    "#### b. Utilizando la hoja de trucos de Numpy, pruebe cada uno de los códigos y muestre los resultados de cada sección.\n",
    "\n",
    "### Creando Arrays"
   ]
  },
  {
   "cell_type": "code",
   "execution_count": 9,
   "id": "2cad0664",
   "metadata": {},
   "outputs": [],
   "source": [
    "import numpy as np\n",
    "\n",
    "a = np.array([1,2,3])\n",
    "b = np.array([(1.5,2,3), (4,5,6)], dtype = float)\n",
    "c = np.array([[(1.5,2,3), (4,5,6)], [(3,2,1), (4,5,6)]], dtype = float)\n"
   ]
  },
  {
   "cell_type": "markdown",
   "id": "9bf846fc",
   "metadata": {},
   "source": [
    "#### Marcadores de posición iniciales"
   ]
  },
  {
   "cell_type": "code",
   "execution_count": 10,
   "id": "8e6a3bb9",
   "metadata": {},
   "outputs": [
    {
     "data": {
      "text/plain": [
       "array([[1.39069238e-309, 1.39069238e-309],\n",
       "       [1.39069238e-309, 1.39069238e-309],\n",
       "       [1.39069238e-309, 1.39069238e-309]])"
      ]
     },
     "execution_count": 10,
     "metadata": {},
     "output_type": "execute_result"
    }
   ],
   "source": [
    "np.zeros((3,4))               \n",
    "np.ones((2,3,4),dtype=np.int16)\n",
    "d = np.arange(10,25,5)\n",
    "np.linspace(0,2,9)\n",
    "e = np.full((2,2),7) \n",
    "f = np.eye(2)\n",
    "np.random.random((2,2))\n",
    "np.empty((3,2))"
   ]
  },
  {
   "cell_type": "markdown",
   "id": "5bdc0691",
   "metadata": {},
   "source": [
    "### Guardar y cargar en disco"
   ]
  },
  {
   "cell_type": "code",
   "execution_count": 11,
   "id": "eac0026a",
   "metadata": {},
   "outputs": [
    {
     "data": {
      "text/plain": [
       "array([1, 2, 3])"
      ]
     },
     "execution_count": 11,
     "metadata": {},
     "output_type": "execute_result"
    }
   ],
   "source": [
    "np.save('my_array', a)\n",
    "np.savez('array.npz', a, b)\n",
    "np.load('my_array.npy')\n"
   ]
  },
  {
   "cell_type": "markdown",
   "id": "bf32761c",
   "metadata": {},
   "source": [
    "### Guardar y cargar archivos de texto"
   ]
  },
  {
   "cell_type": "code",
   "execution_count": 12,
   "id": "b7ce25e3",
   "metadata": {},
   "outputs": [
    {
     "ename": "OSError",
     "evalue": "myfile.txt not found.",
     "output_type": "error",
     "traceback": [
      "\u001b[1;31m---------------------------------------------------------------------------\u001b[0m",
      "\u001b[1;31mOSError\u001b[0m                                   Traceback (most recent call last)",
      "\u001b[1;32m<ipython-input-12-9fdd7007bdd7>\u001b[0m in \u001b[0;36m<module>\u001b[1;34m\u001b[0m\n\u001b[1;32m----> 1\u001b[1;33m \u001b[0mnp\u001b[0m\u001b[1;33m.\u001b[0m\u001b[0mloadtxt\u001b[0m\u001b[1;33m(\u001b[0m\u001b[1;34m\"myfile.txt\"\u001b[0m\u001b[1;33m)\u001b[0m\u001b[1;33m\u001b[0m\u001b[1;33m\u001b[0m\u001b[0m\n\u001b[0m\u001b[0;32m      2\u001b[0m \u001b[0mnp\u001b[0m\u001b[1;33m.\u001b[0m\u001b[0mgenfromtxt\u001b[0m\u001b[1;33m(\u001b[0m\u001b[1;34m\"my_file.csv\"\u001b[0m\u001b[1;33m,\u001b[0m \u001b[0mdelimiter\u001b[0m\u001b[1;33m=\u001b[0m\u001b[1;34m','\u001b[0m\u001b[1;33m)\u001b[0m\u001b[1;33m\u001b[0m\u001b[1;33m\u001b[0m\u001b[0m\n\u001b[0;32m      3\u001b[0m \u001b[0mnp\u001b[0m\u001b[1;33m.\u001b[0m\u001b[0msavetxt\u001b[0m\u001b[1;33m(\u001b[0m\u001b[1;34m\"myarray.txt\"\u001b[0m\u001b[1;33m,\u001b[0m \u001b[0ma\u001b[0m\u001b[1;33m,\u001b[0m \u001b[0mdelimiter\u001b[0m\u001b[1;33m=\u001b[0m\u001b[1;34m\" \"\u001b[0m\u001b[1;33m)\u001b[0m\u001b[1;33m\u001b[0m\u001b[1;33m\u001b[0m\u001b[0m\n",
      "\u001b[1;32mF:\\Instalacion\\Anaconda\\archivos\\lib\\site-packages\\numpy\\lib\\npyio.py\u001b[0m in \u001b[0;36mloadtxt\u001b[1;34m(fname, dtype, comments, delimiter, converters, skiprows, usecols, unpack, ndmin, encoding, max_rows)\u001b[0m\n\u001b[0;32m    959\u001b[0m             \u001b[0mfname\u001b[0m \u001b[1;33m=\u001b[0m \u001b[0mos_fspath\u001b[0m\u001b[1;33m(\u001b[0m\u001b[0mfname\u001b[0m\u001b[1;33m)\u001b[0m\u001b[1;33m\u001b[0m\u001b[1;33m\u001b[0m\u001b[0m\n\u001b[0;32m    960\u001b[0m         \u001b[1;32mif\u001b[0m \u001b[0m_is_string_like\u001b[0m\u001b[1;33m(\u001b[0m\u001b[0mfname\u001b[0m\u001b[1;33m)\u001b[0m\u001b[1;33m:\u001b[0m\u001b[1;33m\u001b[0m\u001b[1;33m\u001b[0m\u001b[0m\n\u001b[1;32m--> 961\u001b[1;33m             \u001b[0mfh\u001b[0m \u001b[1;33m=\u001b[0m \u001b[0mnp\u001b[0m\u001b[1;33m.\u001b[0m\u001b[0mlib\u001b[0m\u001b[1;33m.\u001b[0m\u001b[0m_datasource\u001b[0m\u001b[1;33m.\u001b[0m\u001b[0mopen\u001b[0m\u001b[1;33m(\u001b[0m\u001b[0mfname\u001b[0m\u001b[1;33m,\u001b[0m \u001b[1;34m'rt'\u001b[0m\u001b[1;33m,\u001b[0m \u001b[0mencoding\u001b[0m\u001b[1;33m=\u001b[0m\u001b[0mencoding\u001b[0m\u001b[1;33m)\u001b[0m\u001b[1;33m\u001b[0m\u001b[1;33m\u001b[0m\u001b[0m\n\u001b[0m\u001b[0;32m    962\u001b[0m             \u001b[0mfencoding\u001b[0m \u001b[1;33m=\u001b[0m \u001b[0mgetattr\u001b[0m\u001b[1;33m(\u001b[0m\u001b[0mfh\u001b[0m\u001b[1;33m,\u001b[0m \u001b[1;34m'encoding'\u001b[0m\u001b[1;33m,\u001b[0m \u001b[1;34m'latin1'\u001b[0m\u001b[1;33m)\u001b[0m\u001b[1;33m\u001b[0m\u001b[1;33m\u001b[0m\u001b[0m\n\u001b[0;32m    963\u001b[0m             \u001b[0mfh\u001b[0m \u001b[1;33m=\u001b[0m \u001b[0miter\u001b[0m\u001b[1;33m(\u001b[0m\u001b[0mfh\u001b[0m\u001b[1;33m)\u001b[0m\u001b[1;33m\u001b[0m\u001b[1;33m\u001b[0m\u001b[0m\n",
      "\u001b[1;32mF:\\Instalacion\\Anaconda\\archivos\\lib\\site-packages\\numpy\\lib\\_datasource.py\u001b[0m in \u001b[0;36mopen\u001b[1;34m(path, mode, destpath, encoding, newline)\u001b[0m\n\u001b[0;32m    193\u001b[0m \u001b[1;33m\u001b[0m\u001b[0m\n\u001b[0;32m    194\u001b[0m     \u001b[0mds\u001b[0m \u001b[1;33m=\u001b[0m \u001b[0mDataSource\u001b[0m\u001b[1;33m(\u001b[0m\u001b[0mdestpath\u001b[0m\u001b[1;33m)\u001b[0m\u001b[1;33m\u001b[0m\u001b[1;33m\u001b[0m\u001b[0m\n\u001b[1;32m--> 195\u001b[1;33m     \u001b[1;32mreturn\u001b[0m \u001b[0mds\u001b[0m\u001b[1;33m.\u001b[0m\u001b[0mopen\u001b[0m\u001b[1;33m(\u001b[0m\u001b[0mpath\u001b[0m\u001b[1;33m,\u001b[0m \u001b[0mmode\u001b[0m\u001b[1;33m,\u001b[0m \u001b[0mencoding\u001b[0m\u001b[1;33m=\u001b[0m\u001b[0mencoding\u001b[0m\u001b[1;33m,\u001b[0m \u001b[0mnewline\u001b[0m\u001b[1;33m=\u001b[0m\u001b[0mnewline\u001b[0m\u001b[1;33m)\u001b[0m\u001b[1;33m\u001b[0m\u001b[1;33m\u001b[0m\u001b[0m\n\u001b[0m\u001b[0;32m    196\u001b[0m \u001b[1;33m\u001b[0m\u001b[0m\n\u001b[0;32m    197\u001b[0m \u001b[1;33m\u001b[0m\u001b[0m\n",
      "\u001b[1;32mF:\\Instalacion\\Anaconda\\archivos\\lib\\site-packages\\numpy\\lib\\_datasource.py\u001b[0m in \u001b[0;36mopen\u001b[1;34m(self, path, mode, encoding, newline)\u001b[0m\n\u001b[0;32m    533\u001b[0m                                       encoding=encoding, newline=newline)\n\u001b[0;32m    534\u001b[0m         \u001b[1;32melse\u001b[0m\u001b[1;33m:\u001b[0m\u001b[1;33m\u001b[0m\u001b[1;33m\u001b[0m\u001b[0m\n\u001b[1;32m--> 535\u001b[1;33m             \u001b[1;32mraise\u001b[0m \u001b[0mIOError\u001b[0m\u001b[1;33m(\u001b[0m\u001b[1;34m\"%s not found.\"\u001b[0m \u001b[1;33m%\u001b[0m \u001b[0mpath\u001b[0m\u001b[1;33m)\u001b[0m\u001b[1;33m\u001b[0m\u001b[1;33m\u001b[0m\u001b[0m\n\u001b[0m\u001b[0;32m    536\u001b[0m \u001b[1;33m\u001b[0m\u001b[0m\n\u001b[0;32m    537\u001b[0m \u001b[1;33m\u001b[0m\u001b[0m\n",
      "\u001b[1;31mOSError\u001b[0m: myfile.txt not found."
     ]
    }
   ],
   "source": [
    "np.loadtxt(\"myfile.txt\")\n",
    "np.genfromtxt(\"my_file.csv\", delimiter=',')\n",
    "np.savetxt(\"myarray.txt\", a, delimiter=\" \")\n"
   ]
  },
  {
   "cell_type": "markdown",
   "id": "79243b9a",
   "metadata": {},
   "source": [
    "### Tipos de datos"
   ]
  },
  {
   "cell_type": "code",
   "execution_count": 13,
   "id": "f39051d0",
   "metadata": {},
   "outputs": [
    {
     "data": {
      "text/plain": [
       "numpy.str_"
      ]
     },
     "execution_count": 13,
     "metadata": {},
     "output_type": "execute_result"
    }
   ],
   "source": [
    "np.int64  \n",
    "np.float32\n",
    "np.complex\n",
    "np.bool\n",
    "np.object\n",
    "np.string_\n",
    "np.unicode_"
   ]
  },
  {
   "cell_type": "markdown",
   "id": "9d7abe79",
   "metadata": {},
   "source": [
    "### Inspección de su matriz"
   ]
  },
  {
   "cell_type": "code",
   "execution_count": 14,
   "id": "e81647ef",
   "metadata": {},
   "outputs": [
    {
     "data": {
      "text/plain": [
       "array([[1, 2, 3],\n",
       "       [4, 5, 6]])"
      ]
     },
     "execution_count": 14,
     "metadata": {},
     "output_type": "execute_result"
    }
   ],
   "source": [
    "a.shape  \n",
    "len(a)\n",
    "b.ndim\n",
    "e.size\n",
    "b.dtype   \n",
    "b.dtype.name       \n",
    "b.astype(int)"
   ]
  },
  {
   "cell_type": "markdown",
   "id": "b3040793",
   "metadata": {},
   "source": [
    "### Pidiendo ayuda"
   ]
  },
  {
   "cell_type": "code",
   "execution_count": 15,
   "id": "d8c51178",
   "metadata": {
    "scrolled": false
   },
   "outputs": [
    {
     "name": "stdout",
     "output_type": "stream",
     "text": [
      "Data-type of the array's elements.\n",
      "\n",
      "Parameters\n",
      "----------\n",
      "None\n",
      "\n",
      "Returns\n",
      "-------\n",
      "d : numpy dtype object\n",
      "\n",
      "See Also\n",
      "--------\n",
      "numpy.dtype\n",
      "\n",
      "Examples\n",
      "--------\n",
      ">>> x\n",
      "array([[0, 1],\n",
      "       [2, 3]])\n",
      ">>> x.dtype\n",
      "dtype('int32')\n",
      ">>> type(x.dtype)\n",
      "<type 'numpy.dtype'>\n"
     ]
    }
   ],
   "source": [
    "import numpy\n",
    "np.info(np.ndarray.dtype)\n"
   ]
  },
  {
   "cell_type": "markdown",
   "id": "ac8e50f7",
   "metadata": {},
   "source": []
  },
  {
   "cell_type": "markdown",
   "id": "3ec2bc49",
   "metadata": {},
   "source": [
    "### Arrays matematicos y Operaciones Aritmeticas"
   ]
  },
  {
   "cell_type": "code",
   "execution_count": 24,
   "id": "346d2a1e",
   "metadata": {},
   "outputs": [
    {
     "data": {
      "text/plain": [
       "[[7.0, 7.0], [7.0, 7.0]]"
      ]
     },
     "execution_count": 24,
     "metadata": {},
     "output_type": "execute_result"
    }
   ],
   "source": [
    " g = a - b ##sustraccion\n",
    "([[-0.5, 0. , 0. ],\n",
    " [-3. , -3. , -3. ]])\n",
    "\n",
    "np.subtract(a,b) \n",
    "\n",
    "b + a ##Adicion de arrays\n",
    "([[ 2.5, 4. , 6. ],\n",
    "[ 5. , 7. , 9. ]])\n",
    "np.add(b,a) \n",
    "\n",
    "a / b ##Division\n",
    "([[ 0.66666667, 1. , 1. ],\n",
    "[ 0.25 , 0.4 , 0.5 ]])\n",
    "np.divide(a,b)\n",
    "\n",
    "a * b ##Multiplication\n",
    "([[ 1.5, 4. , 9. ],\n",
    "[ 4. , 10. , 18. ]])\n",
    "np.multiply(a,b)\n",
    "\n",
    "np.exp(b) ##Exponenciacion\n",
    "\n",
    "np.sqrt(b) ## raiz cuadrada\n",
    "\n",
    "np.sin(a) ##imprimir senos de una matriz\n",
    "\n",
    "np.cos(b) ##coseno de elementos\n",
    "\n",
    "np.log(a) ##logaritmo natural por elementos\n",
    "    \n",
    "e.dot(f) ##Dot product\n",
    "([[ 7., 7.],\n",
    "[ 7., 7.]])\n",
    "\n",
    "\n"
   ]
  },
  {
   "cell_type": "markdown",
   "id": "b494d51d",
   "metadata": {},
   "source": [
    "### Comparación"
   ]
  },
  {
   "cell_type": "code",
   "execution_count": 29,
   "id": "d877784a",
   "metadata": {},
   "outputs": [
    {
     "data": {
      "text/plain": [
       "array([[False,  True,  True],\n",
       "       [False, False, False]])"
      ]
     },
     "execution_count": 29,
     "metadata": {},
     "output_type": "execute_result"
    }
   ],
   "source": [
    "a == b \n"
   ]
  },
  {
   "cell_type": "code",
   "execution_count": 30,
   "id": "4dd4f37e",
   "metadata": {},
   "outputs": [
    {
     "data": {
      "text/plain": [
       "array([ True, False, False])"
      ]
     },
     "execution_count": 30,
     "metadata": {},
     "output_type": "execute_result"
    }
   ],
   "source": [
    "a < 2 "
   ]
  },
  {
   "cell_type": "code",
   "execution_count": 32,
   "id": "b85d560a",
   "metadata": {},
   "outputs": [
    {
     "data": {
      "text/plain": [
       "False"
      ]
     },
     "execution_count": 32,
     "metadata": {},
     "output_type": "execute_result"
    }
   ],
   "source": [
    " np.array_equal(a, b) \n"
   ]
  },
  {
   "cell_type": "markdown",
   "id": "3dd171f9",
   "metadata": {},
   "source": [
    "### Funciones agregadas"
   ]
  },
  {
   "cell_type": "code",
   "execution_count": 33,
   "id": "4d6efad8",
   "metadata": {},
   "outputs": [
    {
     "data": {
      "text/plain": [
       "6"
      ]
     },
     "execution_count": 33,
     "metadata": {},
     "output_type": "execute_result"
    }
   ],
   "source": [
    "a.sum()"
   ]
  },
  {
   "cell_type": "code",
   "execution_count": 47,
   "id": "59265b68",
   "metadata": {},
   "outputs": [
    {
     "data": {
      "text/plain": [
       "1"
      ]
     },
     "execution_count": 47,
     "metadata": {},
     "output_type": "execute_result"
    }
   ],
   "source": [
    "a.min() ### Valor mínimo de arreglo"
   ]
  },
  {
   "cell_type": "code",
   "execution_count": 46,
   "id": "2a0646b2",
   "metadata": {},
   "outputs": [
    {
     "data": {
      "text/plain": [
       "array([4., 5., 6.])"
      ]
     },
     "execution_count": 46,
     "metadata": {},
     "output_type": "execute_result"
    }
   ],
   "source": [
    "b.max(axis=0) ### Valor máximo de una fila de matriz"
   ]
  },
  {
   "cell_type": "code",
   "execution_count": 36,
   "id": "e982d08a",
   "metadata": {},
   "outputs": [
    {
     "data": {
      "text/plain": [
       "2.0"
      ]
     },
     "execution_count": 36,
     "metadata": {},
     "output_type": "execute_result"
    }
   ],
   "source": [
    "a.mean() "
   ]
  },
  {
   "cell_type": "code",
   "execution_count": 39,
   "id": "f947b655",
   "metadata": {},
   "outputs": [
    {
     "data": {
      "text/plain": [
       "3.5"
      ]
     },
     "execution_count": 39,
     "metadata": {},
     "output_type": "execute_result"
    }
   ],
   "source": [
    "np.median(b)"
   ]
  },
  {
   "cell_type": "code",
   "execution_count": 41,
   "id": "c3f9aa96",
   "metadata": {},
   "outputs": [
    {
     "data": {
      "text/plain": [
       "1.0"
      ]
     },
     "execution_count": 41,
     "metadata": {},
     "output_type": "execute_result"
    }
   ],
   "source": [
    "np.corrcoef(a) ### Coeficiente de correlación"
   ]
  },
  {
   "cell_type": "code",
   "execution_count": 43,
   "id": "37fad608",
   "metadata": {},
   "outputs": [
    {
     "data": {
      "text/plain": [
       "1.5920810978785667"
      ]
     },
     "execution_count": 43,
     "metadata": {},
     "output_type": "execute_result"
    }
   ],
   "source": [
    "np.std(b) ### desviacion standard"
   ]
  },
  {
   "cell_type": "code",
   "execution_count": 45,
   "id": "6b7f089d",
   "metadata": {},
   "outputs": [
    {
     "data": {
      "text/plain": [
       "array([[ 1.5,  3.5,  6.5],\n",
       "       [ 4. ,  9. , 15. ]])"
      ]
     },
     "execution_count": 45,
     "metadata": {},
     "output_type": "execute_result"
    }
   ],
   "source": [
    "b.cumsum(axis=1) ### Suma acumulativa de los elementos"
   ]
  },
  {
   "cell_type": "markdown",
   "id": "5c9d5aec",
   "metadata": {},
   "source": [
    "### Copiar Arrays"
   ]
  },
  {
   "cell_type": "code",
   "execution_count": 48,
   "id": "69e3f7bb",
   "metadata": {},
   "outputs": [],
   "source": [
    "h = a.view()"
   ]
  },
  {
   "cell_type": "code",
   "execution_count": 49,
   "id": "fb84c599",
   "metadata": {},
   "outputs": [
    {
     "data": {
      "text/plain": [
       "array([1, 2, 3])"
      ]
     },
     "execution_count": 49,
     "metadata": {},
     "output_type": "execute_result"
    }
   ],
   "source": [
    "np.copy(a)"
   ]
  },
  {
   "cell_type": "code",
   "execution_count": 50,
   "id": "d5b6d0ac",
   "metadata": {},
   "outputs": [],
   "source": [
    "h = a.copy()"
   ]
  },
  {
   "cell_type": "markdown",
   "id": "0ca46fcb",
   "metadata": {},
   "source": [
    "### Ordenación de Arrays"
   ]
  },
  {
   "cell_type": "code",
   "execution_count": 51,
   "id": "065bdd3f",
   "metadata": {},
   "outputs": [],
   "source": [
    "a.sort()"
   ]
  },
  {
   "cell_type": "code",
   "execution_count": 52,
   "id": "02311292",
   "metadata": {},
   "outputs": [],
   "source": [
    "c.sort(axis=0)"
   ]
  },
  {
   "cell_type": "markdown",
   "id": "823980dc",
   "metadata": {},
   "source": [
    "### Subconjunto, rebanado, indexación"
   ]
  },
  {
   "cell_type": "markdown",
   "id": "6d78db2d",
   "metadata": {},
   "source": [
    "#### Subconjunto"
   ]
  },
  {
   "cell_type": "code",
   "execution_count": 58,
   "id": "db1036d3",
   "metadata": {},
   "outputs": [
    {
     "data": {
      "text/plain": [
       "3"
      ]
     },
     "execution_count": 58,
     "metadata": {},
     "output_type": "execute_result"
    }
   ],
   "source": [
    "a[2] ### Seleccione el elemento en el segundo índice"
   ]
  },
  {
   "cell_type": "code",
   "execution_count": 57,
   "id": "f6ced70b",
   "metadata": {},
   "outputs": [
    {
     "data": {
      "text/plain": [
       "6.0"
      ]
     },
     "execution_count": 57,
     "metadata": {},
     "output_type": "execute_result"
    }
   ],
   "source": [
    "b[1,2] ### Seleccione el elemento en la fila 1, columna 2 (equivalente a b [1] [2])"
   ]
  },
  {
   "cell_type": "markdown",
   "id": "4ed48b92",
   "metadata": {},
   "source": [
    "#### Rebanar"
   ]
  },
  {
   "cell_type": "code",
   "execution_count": 60,
   "id": "e2ffe215",
   "metadata": {},
   "outputs": [
    {
     "data": {
      "text/plain": [
       "array([1, 2])"
      ]
     },
     "execution_count": 60,
     "metadata": {},
     "output_type": "execute_result"
    }
   ],
   "source": [
    "a[0:2] ### Seleccionar elementos en el índice 0 y 1"
   ]
  },
  {
   "cell_type": "code",
   "execution_count": 61,
   "id": "ae8a21ad",
   "metadata": {},
   "outputs": [
    {
     "data": {
      "text/plain": [
       "array([2., 5.])"
      ]
     },
     "execution_count": 61,
     "metadata": {},
     "output_type": "execute_result"
    }
   ],
   "source": [
    "b[0:2,1] ### Seleccionar elementos en las filas 0 y 1 en la columna 1"
   ]
  },
  {
   "cell_type": "code",
   "execution_count": 62,
   "id": "4c479329",
   "metadata": {},
   "outputs": [
    {
     "data": {
      "text/plain": [
       "array([[1.5, 2. , 3. ]])"
      ]
     },
     "execution_count": 62,
     "metadata": {},
     "output_type": "execute_result"
    }
   ],
   "source": [
    "b[:1] ### Seleccionar todos los elementos de la fila 0 (equivalente a b [0: 1,:])"
   ]
  },
  {
   "cell_type": "code",
   "execution_count": 63,
   "id": "1126de78",
   "metadata": {},
   "outputs": [
    {
     "data": {
      "text/plain": [
       "array([[3., 2., 3.],\n",
       "       [4., 5., 6.]])"
      ]
     },
     "execution_count": 63,
     "metadata": {},
     "output_type": "execute_result"
    }
   ],
   "source": [
    "c[1,...] ### La misma que [1,:,:]"
   ]
  },
  {
   "cell_type": "code",
   "execution_count": 64,
   "id": "3a90ff40",
   "metadata": {},
   "outputs": [
    {
     "data": {
      "text/plain": [
       "array([3, 2, 1])"
      ]
     },
     "execution_count": 64,
     "metadata": {},
     "output_type": "execute_result"
    }
   ],
   "source": [
    "a[ : :-1] ### Matriz invertida a"
   ]
  },
  {
   "cell_type": "markdown",
   "id": "094ab12b",
   "metadata": {},
   "source": [
    "#### Indexación booleana"
   ]
  },
  {
   "cell_type": "code",
   "execution_count": 65,
   "id": "a9e850c2",
   "metadata": {},
   "outputs": [
    {
     "data": {
      "text/plain": [
       "array([1])"
      ]
     },
     "execution_count": 65,
     "metadata": {},
     "output_type": "execute_result"
    }
   ],
   "source": [
    "a[a<2] ### Seleccione elementos de menos de 2"
   ]
  },
  {
   "cell_type": "markdown",
   "id": "b8408108",
   "metadata": {},
   "source": [
    "#### Indexación elegante"
   ]
  },
  {
   "cell_type": "code",
   "execution_count": 66,
   "id": "73df6151",
   "metadata": {},
   "outputs": [
    {
     "data": {
      "text/plain": [
       "array([4. , 2. , 6. , 1.5])"
      ]
     },
     "execution_count": 66,
     "metadata": {},
     "output_type": "execute_result"
    }
   ],
   "source": [
    "b[[1, 0, 1, 0],[0, 1, 2, 0]] ### Seleccione los elementos (1,0), (0,1), (1,2) y (0,0)"
   ]
  },
  {
   "cell_type": "code",
   "execution_count": 67,
   "id": "70abb2bf",
   "metadata": {},
   "outputs": [
    {
     "data": {
      "text/plain": [
       "array([[4. , 5. , 6. , 4. ],\n",
       "       [1.5, 2. , 3. , 1.5],\n",
       "       [4. , 5. , 6. , 4. ],\n",
       "       [1.5, 2. , 3. , 1.5]])"
      ]
     },
     "execution_count": 67,
     "metadata": {},
     "output_type": "execute_result"
    }
   ],
   "source": [
    "b[[1, 0, 1, 0]][:,[0,1,2,0]] ### Seleccione un subconjunto de filas y columnas de la matriz."
   ]
  },
  {
   "cell_type": "markdown",
   "id": "25fcc0fd",
   "metadata": {},
   "source": [
    "### Manipulación de Arrays"
   ]
  },
  {
   "cell_type": "markdown",
   "id": "3bd95b09",
   "metadata": {},
   "source": [
    "#### Transposición de matriz"
   ]
  },
  {
   "cell_type": "code",
   "execution_count": 68,
   "id": "408e130f",
   "metadata": {},
   "outputs": [],
   "source": [
    "i = np.transpose(b)"
   ]
  },
  {
   "cell_type": "code",
   "execution_count": 69,
   "id": "747608b7",
   "metadata": {},
   "outputs": [
    {
     "data": {
      "text/plain": [
       "array([[1.5, 2. , 3. ],\n",
       "       [4. , 5. , 6. ]])"
      ]
     },
     "execution_count": 69,
     "metadata": {},
     "output_type": "execute_result"
    }
   ],
   "source": [
    "i.T"
   ]
  },
  {
   "cell_type": "markdown",
   "id": "a73bfbed",
   "metadata": {},
   "source": [
    "#### Cambiar la forma del Array"
   ]
  },
  {
   "cell_type": "code",
   "execution_count": 70,
   "id": "ab414399",
   "metadata": {},
   "outputs": [
    {
     "data": {
      "text/plain": [
       "array([1.5, 2. , 3. , 4. , 5. , 6. ])"
      ]
     },
     "execution_count": 70,
     "metadata": {},
     "output_type": "execute_result"
    }
   ],
   "source": [
    "b.ravel()"
   ]
  },
  {
   "cell_type": "code",
   "execution_count": 71,
   "id": "6b6809ee",
   "metadata": {},
   "outputs": [
    {
     "data": {
      "text/plain": [
       "array([[-0.5,  0. ],\n",
       "       [ 0. , -3. ],\n",
       "       [-3. , -3. ]])"
      ]
     },
     "execution_count": 71,
     "metadata": {},
     "output_type": "execute_result"
    }
   ],
   "source": [
    "g.reshape(3,-2)"
   ]
  },
  {
   "cell_type": "markdown",
   "id": "6de2cbe7",
   "metadata": {},
   "source": [
    "#### Agregar / eliminar elementos"
   ]
  },
  {
   "cell_type": "code",
   "execution_count": 72,
   "id": "b5251d10",
   "metadata": {},
   "outputs": [],
   "source": [
    "h.resize((2,6))"
   ]
  },
  {
   "cell_type": "code",
   "execution_count": 73,
   "id": "c4515c4d",
   "metadata": {},
   "outputs": [
    {
     "data": {
      "text/plain": [
       "array([ 1. ,  2. ,  3. ,  0. ,  0. ,  0. ,  0. ,  0. ,  0. ,  0. ,  0. ,\n",
       "        0. , -0.5,  0. ,  0. , -3. , -3. , -3. ])"
      ]
     },
     "execution_count": 73,
     "metadata": {},
     "output_type": "execute_result"
    }
   ],
   "source": [
    "np.append(h,g)"
   ]
  },
  {
   "cell_type": "code",
   "execution_count": 74,
   "id": "105291e5",
   "metadata": {},
   "outputs": [
    {
     "data": {
      "text/plain": [
       "array([1, 5, 2, 3])"
      ]
     },
     "execution_count": 74,
     "metadata": {},
     "output_type": "execute_result"
    }
   ],
   "source": [
    "np.insert(a, 1, 5)"
   ]
  },
  {
   "cell_type": "code",
   "execution_count": 75,
   "id": "62ef913f",
   "metadata": {},
   "outputs": [
    {
     "data": {
      "text/plain": [
       "array([1, 3])"
      ]
     },
     "execution_count": 75,
     "metadata": {},
     "output_type": "execute_result"
    }
   ],
   "source": [
    "np.delete(a,[1])"
   ]
  },
  {
   "cell_type": "markdown",
   "id": "91855b76",
   "metadata": {},
   "source": [
    "#### Combinando Array"
   ]
  },
  {
   "cell_type": "code",
   "execution_count": 76,
   "id": "35bb3b93",
   "metadata": {},
   "outputs": [
    {
     "data": {
      "text/plain": [
       "array([ 1,  2,  3, 10, 15, 20])"
      ]
     },
     "execution_count": 76,
     "metadata": {},
     "output_type": "execute_result"
    }
   ],
   "source": [
    "np.concatenate((a,d),axis=0)"
   ]
  },
  {
   "cell_type": "code",
   "execution_count": 77,
   "id": "a4ca98d5",
   "metadata": {},
   "outputs": [
    {
     "data": {
      "text/plain": [
       "array([[1. , 2. , 3. ],\n",
       "       [1.5, 2. , 3. ],\n",
       "       [4. , 5. , 6. ]])"
      ]
     },
     "execution_count": 77,
     "metadata": {},
     "output_type": "execute_result"
    }
   ],
   "source": [
    "np.vstack((a,b))"
   ]
  },
  {
   "cell_type": "code",
   "execution_count": 78,
   "id": "3252a3f9",
   "metadata": {},
   "outputs": [
    {
     "data": {
      "text/plain": [
       "array([[7., 7.],\n",
       "       [7., 7.],\n",
       "       [1., 0.],\n",
       "       [0., 1.]])"
      ]
     },
     "execution_count": 78,
     "metadata": {},
     "output_type": "execute_result"
    }
   ],
   "source": [
    "np.r_[e,f]"
   ]
  },
  {
   "cell_type": "code",
   "execution_count": 79,
   "id": "bbf3c4b5",
   "metadata": {},
   "outputs": [
    {
     "data": {
      "text/plain": [
       "array([[7., 7., 1., 0.],\n",
       "       [7., 7., 0., 1.]])"
      ]
     },
     "execution_count": 79,
     "metadata": {},
     "output_type": "execute_result"
    }
   ],
   "source": [
    "np.hstack((e,f))"
   ]
  },
  {
   "cell_type": "code",
   "execution_count": 80,
   "id": "b82b6a20",
   "metadata": {},
   "outputs": [
    {
     "data": {
      "text/plain": [
       "array([[ 1, 10],\n",
       "       [ 2, 15],\n",
       "       [ 3, 20]])"
      ]
     },
     "execution_count": 80,
     "metadata": {},
     "output_type": "execute_result"
    }
   ],
   "source": [
    "np.column_stack((a,d))"
   ]
  },
  {
   "cell_type": "code",
   "execution_count": 81,
   "id": "efcaba8e",
   "metadata": {},
   "outputs": [
    {
     "data": {
      "text/plain": [
       "array([[ 1, 10],\n",
       "       [ 2, 15],\n",
       "       [ 3, 20]])"
      ]
     },
     "execution_count": 81,
     "metadata": {},
     "output_type": "execute_result"
    }
   ],
   "source": [
    "np.c_[a,d]"
   ]
  },
  {
   "cell_type": "markdown",
   "id": "6893b944",
   "metadata": {},
   "source": [
    "### División de matrices"
   ]
  },
  {
   "cell_type": "code",
   "execution_count": 83,
   "id": "bbe466b5",
   "metadata": {},
   "outputs": [
    {
     "data": {
      "text/plain": [
       "[array([1]), array([2]), array([3])]"
      ]
     },
     "execution_count": 83,
     "metadata": {},
     "output_type": "execute_result"
    }
   ],
   "source": [
    "np.hsplit(a,3) ### Divida la matriz horizontalmente en el tercer índice"
   ]
  },
  {
   "cell_type": "code",
   "execution_count": 84,
   "id": "ff9fee1e",
   "metadata": {},
   "outputs": [
    {
     "data": {
      "text/plain": [
       "[array([[[1.5, 2. , 1. ],\n",
       "         [4. , 5. , 6. ]]]),\n",
       " array([[[3., 2., 3.],\n",
       "         [4., 5., 6.]]])]"
      ]
     },
     "execution_count": 84,
     "metadata": {},
     "output_type": "execute_result"
    }
   ],
   "source": [
    "np.vsplit(c,2) ### Divida la matriz verticalmente en el segundo índice"
   ]
  },
  {
   "cell_type": "markdown",
   "id": "cdae468a",
   "metadata": {},
   "source": [
    "### Fin."
   ]
  },
  {
   "cell_type": "code",
   "execution_count": null,
   "id": "eb37c53b",
   "metadata": {},
   "outputs": [],
   "source": []
  }
 ],
 "metadata": {
  "kernelspec": {
   "display_name": "Python 3",
   "language": "python",
   "name": "python3"
  },
  "language_info": {
   "codemirror_mode": {
    "name": "ipython",
    "version": 3
   },
   "file_extension": ".py",
   "mimetype": "text/x-python",
   "name": "python",
   "nbconvert_exporter": "python",
   "pygments_lexer": "ipython3",
   "version": "3.8.8"
  }
 },
 "nbformat": 4,
 "nbformat_minor": 5
}
